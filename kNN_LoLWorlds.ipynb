{
  "nbformat": 4,
  "nbformat_minor": 0,
  "metadata": {
    "colab": {
      "name": "kNN_LoLWorlds.ipynb",
      "provenance": [],
      "collapsed_sections": [],
      "include_colab_link": true
    },
    "kernelspec": {
      "name": "python3",
      "display_name": "Python 3"
    }
  },
  "cells": [
    {
      "cell_type": "markdown",
      "metadata": {
        "id": "view-in-github",
        "colab_type": "text"
      },
      "source": [
        "<a href=\"https://colab.research.google.com/github/psbruno/IA/blob/master/kNN_LoLWorlds.ipynb\" target=\"_parent\"><img src=\"https://colab.research.google.com/assets/colab-badge.svg\" alt=\"Open In Colab\"/></a>"
      ]
    },
    {
      "cell_type": "code",
      "metadata": {
        "id": "dezy_3pDbPj4"
      },
      "source": [
        "import numpy as np\n",
        "import pandas as pd\n",
        "from matplotlib import pyplot as plt\n",
        "from sklearn.neighbors import KNeighborsClassifier\n",
        "import seaborn as sns\n",
        "from sklearn.cluster import AgglomerativeClustering\n",
        "import scipy.cluster.hierarchy as sch\n",
        "from scipy.cluster.hierarchy import dendrogram, linkage"
      ],
      "execution_count": 3,
      "outputs": []
    },
    {
      "cell_type": "code",
      "metadata": {
        "id": "PFv16MEfbcxP",
        "outputId": "0159fbab-6068-4d8a-d30f-a63847f7b449",
        "colab": {
          "base_uri": "https://localhost:8080/",
          "height": 204
        }
      },
      "source": [
        "Jogos = pd.read_csv(\"PlayIn.csv\")\n",
        "Jogos.head()\n"
      ],
      "execution_count": 4,
      "outputs": [
        {
          "output_type": "execute_result",
          "data": {
            "text/html": [
              "<div>\n",
              "<style scoped>\n",
              "    .dataframe tbody tr th:only-of-type {\n",
              "        vertical-align: middle;\n",
              "    }\n",
              "\n",
              "    .dataframe tbody tr th {\n",
              "        vertical-align: top;\n",
              "    }\n",
              "\n",
              "    .dataframe thead th {\n",
              "        text-align: right;\n",
              "    }\n",
              "</style>\n",
              "<table border=\"1\" class=\"dataframe\">\n",
              "  <thead>\n",
              "    <tr style=\"text-align: right;\">\n",
              "      <th></th>\n",
              "      <th>Time</th>\n",
              "      <th>Top</th>\n",
              "      <th>Jungle</th>\n",
              "      <th>Mid</th>\n",
              "      <th>ADC</th>\n",
              "      <th>Sup</th>\n",
              "      <th>Vitoria</th>\n",
              "      <th>Classe</th>\n",
              "    </tr>\n",
              "  </thead>\n",
              "  <tbody>\n",
              "    <tr>\n",
              "      <th>0</th>\n",
              "      <td>INTZ</td>\n",
              "      <td>Urgot</td>\n",
              "      <td>Gragas</td>\n",
              "      <td>Tristana</td>\n",
              "      <td>Ashe</td>\n",
              "      <td>Alistar</td>\n",
              "      <td>0</td>\n",
              "      <td>Dive</td>\n",
              "    </tr>\n",
              "    <tr>\n",
              "      <th>1</th>\n",
              "      <td>MAD Lions</td>\n",
              "      <td>Renekton</td>\n",
              "      <td>Evelynn</td>\n",
              "      <td>Lucian</td>\n",
              "      <td>Jhin</td>\n",
              "      <td>Pantheon</td>\n",
              "      <td>1</td>\n",
              "      <td>Split</td>\n",
              "    </tr>\n",
              "    <tr>\n",
              "      <th>2</th>\n",
              "      <td>Legacy</td>\n",
              "      <td>Camille</td>\n",
              "      <td>Nidalee</td>\n",
              "      <td>Sett</td>\n",
              "      <td>Tristana</td>\n",
              "      <td>Nautilus</td>\n",
              "      <td>1</td>\n",
              "      <td>Split</td>\n",
              "    </tr>\n",
              "    <tr>\n",
              "      <th>3</th>\n",
              "      <td>INTZ</td>\n",
              "      <td>Vladmir</td>\n",
              "      <td>Volibear</td>\n",
              "      <td>Zoe</td>\n",
              "      <td>Ezreal</td>\n",
              "      <td>Bardo</td>\n",
              "      <td>0</td>\n",
              "      <td>Poke</td>\n",
              "    </tr>\n",
              "    <tr>\n",
              "      <th>4</th>\n",
              "      <td>LGD</td>\n",
              "      <td>Volibear</td>\n",
              "      <td>Lilia</td>\n",
              "      <td>Lucian</td>\n",
              "      <td>Ashe</td>\n",
              "      <td>Braum</td>\n",
              "      <td>0</td>\n",
              "      <td>Wombo Combo</td>\n",
              "    </tr>\n",
              "  </tbody>\n",
              "</table>\n",
              "</div>"
            ],
            "text/plain": [
              "        Time        Top     Jungle  ...        Sup Vitoria        Classe\n",
              "0       INTZ      Urgot     Gragas  ...    Alistar       0         Dive \n",
              "1  MAD Lions   Renekton    Evelynn  ...   Pantheon       1         Split\n",
              "2     Legacy    Camille    Nidalee  ...   Nautilus       1         Split\n",
              "3       INTZ    Vladmir   Volibear  ...      Bardo       0          Poke\n",
              "4        LGD   Volibear      Lilia  ...      Braum       0   Wombo Combo\n",
              "\n",
              "[5 rows x 8 columns]"
            ]
          },
          "metadata": {
            "tags": []
          },
          "execution_count": 4
        }
      ]
    },
    {
      "cell_type": "code",
      "metadata": {
        "id": "AJwfEMG9o98T"
      },
      "source": [
        "atributos=np.zeros((78,6))"
      ],
      "execution_count": 5,
      "outputs": []
    },
    {
      "cell_type": "code",
      "metadata": {
        "id": "HfA6RjoSPnff",
        "outputId": "64e5f168-5c94-4391-b3ea-a8ccf6539810",
        "colab": {
          "base_uri": "https://localhost:8080/",
          "height": 204
        }
      },
      "source": [
        "Classes = pd.read_csv(\"Estrategias.csv\")\n",
        "Classes.head()"
      ],
      "execution_count": 11,
      "outputs": [
        {
          "output_type": "execute_result",
          "data": {
            "text/html": [
              "<div>\n",
              "<style scoped>\n",
              "    .dataframe tbody tr th:only-of-type {\n",
              "        vertical-align: middle;\n",
              "    }\n",
              "\n",
              "    .dataframe tbody tr th {\n",
              "        vertical-align: top;\n",
              "    }\n",
              "\n",
              "    .dataframe thead th {\n",
              "        text-align: right;\n",
              "    }\n",
              "</style>\n",
              "<table border=\"1\" class=\"dataframe\">\n",
              "  <thead>\n",
              "    <tr style=\"text-align: right;\">\n",
              "      <th></th>\n",
              "      <th>Campeao</th>\n",
              "      <th>Peel</th>\n",
              "      <th>Dive</th>\n",
              "      <th>Split</th>\n",
              "      <th>Poke</th>\n",
              "      <th>Wombo Combo</th>\n",
              "    </tr>\n",
              "  </thead>\n",
              "  <tbody>\n",
              "    <tr>\n",
              "      <th>0</th>\n",
              "      <td>Nidalee</td>\n",
              "      <td>3</td>\n",
              "      <td>3</td>\n",
              "      <td>0</td>\n",
              "      <td>5</td>\n",
              "      <td>0</td>\n",
              "    </tr>\n",
              "    <tr>\n",
              "      <th>1</th>\n",
              "      <td>Lilia</td>\n",
              "      <td>0</td>\n",
              "      <td>2</td>\n",
              "      <td>0</td>\n",
              "      <td>3</td>\n",
              "      <td>5</td>\n",
              "    </tr>\n",
              "    <tr>\n",
              "      <th>2</th>\n",
              "      <td>Orianna</td>\n",
              "      <td>3</td>\n",
              "      <td>3</td>\n",
              "      <td>0</td>\n",
              "      <td>4</td>\n",
              "      <td>5</td>\n",
              "    </tr>\n",
              "    <tr>\n",
              "      <th>3</th>\n",
              "      <td>Ornn</td>\n",
              "      <td>4</td>\n",
              "      <td>3</td>\n",
              "      <td>1</td>\n",
              "      <td>0</td>\n",
              "      <td>4</td>\n",
              "    </tr>\n",
              "    <tr>\n",
              "      <th>4</th>\n",
              "      <td>Graves</td>\n",
              "      <td>1</td>\n",
              "      <td>3</td>\n",
              "      <td>1</td>\n",
              "      <td>1</td>\n",
              "      <td>5</td>\n",
              "    </tr>\n",
              "  </tbody>\n",
              "</table>\n",
              "</div>"
            ],
            "text/plain": [
              "    Campeao  Peel  Dive  Split  Poke  Wombo Combo\n",
              "0   Nidalee     3     3      0     5            0\n",
              "1     Lilia     0     2      0     3            5\n",
              "2   Orianna     3     3      0     4            5\n",
              "3      Ornn     4     3      1     0            4\n",
              "4    Graves     1     3      1     1            5"
            ]
          },
          "metadata": {
            "tags": []
          },
          "execution_count": 11
        }
      ]
    },
    {
      "cell_type": "code",
      "metadata": {
        "id": "yjj_pu15NCSS"
      },
      "source": [
        "\n",
        "\n"
      ],
      "execution_count": 7,
      "outputs": []
    },
    {
      "cell_type": "code",
      "metadata": {
        "id": "Cxzo9xLsqh0K",
        "outputId": "df1988cc-33f3-43f1-e8c7-d70c3055c8f3",
        "colab": {
          "base_uri": "https://localhost:8080/",
          "height": 34
        }
      },
      "source": [
        "i=0\n",
        "Classe=[]\n",
        "for index, PlayIn in Jogos.iterrows():\n",
        "  Classe.append(PlayIn[\" Classe\"])\n",
        "  #print(\"Time:\", PlayIn[\"Time\"], \"\\n\")\n",
        "  flag=0 \n",
        "  for  index, Dados in Classes.iterrows():\n",
        "    if(Dados[\"Campeao\"] == PlayIn[\"Top\"]):\n",
        "      A=Dados\n",
        "      flag=flag+1\n",
        "    if(Dados[\"Campeao\"] == PlayIn[\"Jungle\"]):\n",
        "      B=Dados\n",
        "    if(Dados[\"Campeao\"] == PlayIn[\"Mid\"]):    \n",
        "      C=Dados\n",
        "      flag=flag+1\n",
        "    if(Dados[\"Campeao\"] == PlayIn[\"ADC\"]):\n",
        "      D=Dados\n",
        "      flag=flag+1\n",
        "    if(Dados[\"Campeao\"] == PlayIn[\"Sup\"]):\n",
        "      E=Dados  \n",
        "      flag=flag+1\n",
        "    if(flag==5):\n",
        "      break\n",
        "\n",
        "  \n",
        "\n",
        "  #print(\"Top :\",A[\"Campeao\"],\"Jungle:\",B[\"Campeao\"],\"Mid:\",C[\"Campeao\"],\"ADC:\",D[\"Campeao\"],\"SUP\",E[\"Campeao\"])\n",
        "  atributos[i][0]=A[\"Peel\"]+B[\"Peel\"]+C[\"Peel\"]+D[\"Peel\"]+E[\"Peel\"]\n",
        "  atributos[i][1]=A[\"Dive\"]+B[\"Dive\"]+C[\"Dive\"]+D[\"Dive\"]+E[\"Dive\"]\n",
        "  atributos[i][2]=A[\"Split\"]+B[\"Split\"]+C[\"Split\"]+D[\"Split\"]+E[\"Split\"]\n",
        "  atributos[i][3]=A[\"Poke\"]+B[\"Poke\"]+C[\"Poke\"]+D[\"Poke\"]+E[\"Poke\"]\n",
        "  atributos[i][4]=A[\"Wombo Combo\"]+B[\"Wombo Combo\"]+C[\"Wombo Combo\"]+D[\"Wombo Combo\"]+E[\"Wombo Combo\"]\n",
        "  i=i+1\n",
        "    \n",
        "    #print(\"\\n<-------------------\",linha,\"-------------------->\")\n",
        "\n",
        "print(i)\n",
        "   "
      ],
      "execution_count": 42,
      "outputs": [
        {
          "output_type": "stream",
          "text": [
            "77\n"
          ],
          "name": "stdout"
        }
      ]
    },
    {
      "cell_type": "code",
      "metadata": {
        "id": "njGp2yPHSKY_"
      },
      "source": [
        ""
      ],
      "execution_count": null,
      "outputs": []
    },
    {
      "cell_type": "code",
      "metadata": {
        "id": "DTGCRmeu5W1j"
      },
      "source": [
        "\n",
        "trainX = atributos[:50]\n",
        "trainY = Classe[:50]\n"
      ],
      "execution_count": 56,
      "outputs": []
    },
    {
      "cell_type": "code",
      "metadata": {
        "id": "NoNo0LfHQKyi"
      },
      "source": [
        "trainY"
      ],
      "execution_count": null,
      "outputs": []
    },
    {
      "cell_type": "code",
      "metadata": {
        "id": "wiYZuKIw9gCU"
      },
      "source": [
        "atributos\n",
        "\n"
      ],
      "execution_count": null,
      "outputs": []
    },
    {
      "cell_type": "code",
      "metadata": {
        "id": "LP4x2cFiGh-j"
      },
      "source": [
        "neigh=KNeighborsClassifier()"
      ],
      "execution_count": 92,
      "outputs": []
    },
    {
      "cell_type": "code",
      "metadata": {
        "id": "LolMNwg9Gk6z",
        "outputId": "53a65b0e-4d6a-4934-cae9-0980e011fa01",
        "colab": {
          "base_uri": "https://localhost:8080/",
          "height": 163
        }
      },
      "source": [
        "neigh.fit(trainX, trainY, metric= 'manhattan')"
      ],
      "execution_count": 102,
      "outputs": [
        {
          "output_type": "error",
          "ename": "TypeError",
          "evalue": "ignored",
          "traceback": [
            "\u001b[0;31m---------------------------------------------------------------------------\u001b[0m",
            "\u001b[0;31mTypeError\u001b[0m                                 Traceback (most recent call last)",
            "\u001b[0;32m<ipython-input-102-0ed621ce03e5>\u001b[0m in \u001b[0;36m<module>\u001b[0;34m()\u001b[0m\n\u001b[0;32m----> 1\u001b[0;31m \u001b[0mneigh\u001b[0m\u001b[0;34m.\u001b[0m\u001b[0mfit\u001b[0m\u001b[0;34m(\u001b[0m\u001b[0mtrainX\u001b[0m\u001b[0;34m,\u001b[0m \u001b[0mtrainY\u001b[0m\u001b[0;34m,\u001b[0m \u001b[0mmetric\u001b[0m\u001b[0;34m=\u001b[0m \u001b[0;34m'manhattan'\u001b[0m\u001b[0;34m)\u001b[0m\u001b[0;34m\u001b[0m\u001b[0;34m\u001b[0m\u001b[0m\n\u001b[0m",
            "\u001b[0;31mTypeError\u001b[0m: fit() got an unexpected keyword argument 'metric'"
          ]
        }
      ]
    },
    {
      "cell_type": "code",
      "metadata": {
        "id": "J308y4zcVRYe"
      },
      "source": [
        "neigh.predict(atributos[50:77])"
      ],
      "execution_count": null,
      "outputs": []
    },
    {
      "cell_type": "code",
      "metadata": {
        "id": "yJviiCifV2xG"
      },
      "source": [
        "from sklearn.metrics import accuracy_score"
      ],
      "execution_count": 69,
      "outputs": []
    },
    {
      "cell_type": "code",
      "metadata": {
        "id": "3F4WuQAbbR6a",
        "outputId": "763dee64-dfc9-4073-ca37-621ab57e33e7",
        "colab": {
          "base_uri": "https://localhost:8080/",
          "height": 34
        }
      },
      "source": [
        "accuracy_score(Classe[50:70],neigh.predict(atributos[50:70]))"
      ],
      "execution_count": 89,
      "outputs": [
        {
          "output_type": "execute_result",
          "data": {
            "text/plain": [
              "0.6"
            ]
          },
          "metadata": {
            "tags": []
          },
          "execution_count": 89
        }
      ]
    }
  ]
}