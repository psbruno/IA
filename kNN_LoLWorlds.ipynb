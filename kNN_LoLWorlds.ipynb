{
  "nbformat": 4,
  "nbformat_minor": 0,
  "metadata": {
    "colab": {
      "name": "kNN_LoLWorlds.ipynb",
      "provenance": [],
      "collapsed_sections": [],
      "include_colab_link": true
    },
    "kernelspec": {
      "name": "python3",
      "display_name": "Python 3"
    }
  },
  "cells": [
    {
      "cell_type": "markdown",
      "metadata": {
        "id": "view-in-github",
        "colab_type": "text"
      },
      "source": [
        "<a href=\"https://colab.research.google.com/github/psbruno/IA/blob/master/kNN_LoLWorlds.ipynb\" target=\"_parent\"><img src=\"https://colab.research.google.com/assets/colab-badge.svg\" alt=\"Open In Colab\"/></a>"
      ]
    },
    {
      "cell_type": "code",
      "metadata": {
        "id": "dezy_3pDbPj4"
      },
      "source": [
        "import numpy as np\n",
        "import pandas as pd\n",
        "from matplotlib import pyplot as plt\n",
        "from sklearn.neighbors import KNeighborsClassifier\n",
        "import seaborn as sns\n",
        "from sklearn.cluster import AgglomerativeClustering\n",
        "import scipy.cluster.hierarchy as sch\n",
        "from scipy.cluster.hierarchy import dendrogram, linkage"
      ],
      "execution_count": 3,
      "outputs": []
    },
    {
      "cell_type": "code",
      "metadata": {
        "id": "PFv16MEfbcxP",
        "outputId": "f409b954-8fcb-4be5-de0f-83be43dc0ac9",
        "colab": {
          "base_uri": "https://localhost:8080/",
          "height": 419
        }
      },
      "source": [
        "Jogos = pd.read_csv(\"PlayIn.csv\")\n",
        "Jogos.head(200)\n"
      ],
      "execution_count": 110,
      "outputs": [
        {
          "output_type": "execute_result",
          "data": {
            "text/html": [
              "<div>\n",
              "<style scoped>\n",
              "    .dataframe tbody tr th:only-of-type {\n",
              "        vertical-align: middle;\n",
              "    }\n",
              "\n",
              "    .dataframe tbody tr th {\n",
              "        vertical-align: top;\n",
              "    }\n",
              "\n",
              "    .dataframe thead th {\n",
              "        text-align: right;\n",
              "    }\n",
              "</style>\n",
              "<table border=\"1\" class=\"dataframe\">\n",
              "  <thead>\n",
              "    <tr style=\"text-align: right;\">\n",
              "      <th></th>\n",
              "      <th>Time</th>\n",
              "      <th>Top</th>\n",
              "      <th>Jungle</th>\n",
              "      <th>Mid</th>\n",
              "      <th>ADC</th>\n",
              "      <th>Sup</th>\n",
              "      <th>Vitoria</th>\n",
              "      <th>Classe</th>\n",
              "    </tr>\n",
              "  </thead>\n",
              "  <tbody>\n",
              "    <tr>\n",
              "      <th>0</th>\n",
              "      <td>INTZ</td>\n",
              "      <td>Urgot</td>\n",
              "      <td>Gragas</td>\n",
              "      <td>Tristana</td>\n",
              "      <td>Ashe</td>\n",
              "      <td>Alistar</td>\n",
              "      <td>0</td>\n",
              "      <td>Dive</td>\n",
              "    </tr>\n",
              "    <tr>\n",
              "      <th>1</th>\n",
              "      <td>MAD Lions</td>\n",
              "      <td>Renekton</td>\n",
              "      <td>Evelynn</td>\n",
              "      <td>Lucian</td>\n",
              "      <td>Jhin</td>\n",
              "      <td>Pantheon</td>\n",
              "      <td>1</td>\n",
              "      <td>Split</td>\n",
              "    </tr>\n",
              "    <tr>\n",
              "      <th>2</th>\n",
              "      <td>Legacy</td>\n",
              "      <td>Camille</td>\n",
              "      <td>Nidalee</td>\n",
              "      <td>Sett</td>\n",
              "      <td>Tristana</td>\n",
              "      <td>Nautilus</td>\n",
              "      <td>1</td>\n",
              "      <td>Split</td>\n",
              "    </tr>\n",
              "    <tr>\n",
              "      <th>3</th>\n",
              "      <td>INTZ</td>\n",
              "      <td>Vladmir</td>\n",
              "      <td>Volibear</td>\n",
              "      <td>Zoe</td>\n",
              "      <td>Ezreal</td>\n",
              "      <td>Bardo</td>\n",
              "      <td>0</td>\n",
              "      <td>Poke</td>\n",
              "    </tr>\n",
              "    <tr>\n",
              "      <th>4</th>\n",
              "      <td>LGD</td>\n",
              "      <td>Volibear</td>\n",
              "      <td>Lilia</td>\n",
              "      <td>Lucian</td>\n",
              "      <td>Ashe</td>\n",
              "      <td>Braum</td>\n",
              "      <td>0</td>\n",
              "      <td>Wombo Combo</td>\n",
              "    </tr>\n",
              "    <tr>\n",
              "      <th>...</th>\n",
              "      <td>...</td>\n",
              "      <td>...</td>\n",
              "      <td>...</td>\n",
              "      <td>...</td>\n",
              "      <td>...</td>\n",
              "      <td>...</td>\n",
              "      <td>...</td>\n",
              "      <td>...</td>\n",
              "    </tr>\n",
              "    <tr>\n",
              "      <th>72</th>\n",
              "      <td>LGD</td>\n",
              "      <td>Renekton</td>\n",
              "      <td>Graves</td>\n",
              "      <td>Twisted Fate</td>\n",
              "      <td>Miss Fortune</td>\n",
              "      <td>Leona</td>\n",
              "      <td>1</td>\n",
              "      <td>Split</td>\n",
              "    </tr>\n",
              "    <tr>\n",
              "      <th>73</th>\n",
              "      <td>Legacy</td>\n",
              "      <td>Poppy</td>\n",
              "      <td>Lilia</td>\n",
              "      <td>Twisted Fate</td>\n",
              "      <td>Draven</td>\n",
              "      <td>Braum</td>\n",
              "      <td>0</td>\n",
              "      <td>Wombo Combo</td>\n",
              "    </tr>\n",
              "    <tr>\n",
              "      <th>74</th>\n",
              "      <td>LGD</td>\n",
              "      <td>Camille</td>\n",
              "      <td>Nidalee</td>\n",
              "      <td>Kassadin</td>\n",
              "      <td>Ezreal</td>\n",
              "      <td>Leona</td>\n",
              "      <td>1</td>\n",
              "      <td>Split</td>\n",
              "    </tr>\n",
              "    <tr>\n",
              "      <th>75</th>\n",
              "      <td>Legacy</td>\n",
              "      <td>Camille</td>\n",
              "      <td>Lilia</td>\n",
              "      <td>Galio</td>\n",
              "      <td>Twitch</td>\n",
              "      <td>Taric</td>\n",
              "      <td>0</td>\n",
              "      <td>Peel</td>\n",
              "    </tr>\n",
              "    <tr>\n",
              "      <th>76</th>\n",
              "      <td>LGD</td>\n",
              "      <td>Volibear</td>\n",
              "      <td>Graves</td>\n",
              "      <td>Twisted Fate</td>\n",
              "      <td>Ezreal</td>\n",
              "      <td>Alistar</td>\n",
              "      <td>1</td>\n",
              "      <td>Wombo Combo</td>\n",
              "    </tr>\n",
              "  </tbody>\n",
              "</table>\n",
              "<p>77 rows × 8 columns</p>\n",
              "</div>"
            ],
            "text/plain": [
              "         Time        Top     Jungle  ...        Sup Vitoria        Classe\n",
              "0        INTZ      Urgot     Gragas  ...    Alistar       0         Dive \n",
              "1   MAD Lions   Renekton    Evelynn  ...   Pantheon       1         Split\n",
              "2      Legacy    Camille    Nidalee  ...   Nautilus       1         Split\n",
              "3        INTZ    Vladmir   Volibear  ...      Bardo       0          Poke\n",
              "4         LGD   Volibear      Lilia  ...      Braum       0   Wombo Combo\n",
              "..        ...        ...        ...  ...        ...     ...           ...\n",
              "72        LGD   Renekton     Graves  ...      Leona       1         Split\n",
              "73     Legacy      Poppy      Lilia  ...      Braum       0   Wombo Combo\n",
              "74        LGD    Camille    Nidalee  ...      Leona       1         Split\n",
              "75     Legacy    Camille      Lilia  ...      Taric       0          Peel\n",
              "76        LGD   Volibear     Graves  ...    Alistar       1   Wombo Combo\n",
              "\n",
              "[77 rows x 8 columns]"
            ]
          },
          "metadata": {
            "tags": []
          },
          "execution_count": 110
        }
      ]
    },
    {
      "cell_type": "code",
      "metadata": {
        "id": "AJwfEMG9o98T"
      },
      "source": [
        "atributos=np.zeros((78,6))"
      ],
      "execution_count": 153,
      "outputs": []
    },
    {
      "cell_type": "code",
      "metadata": {
        "id": "HfA6RjoSPnff",
        "outputId": "848b15e7-04c5-4a6a-efe4-5d30246d6177",
        "colab": {
          "base_uri": "https://localhost:8080/",
          "height": 419
        }
      },
      "source": [
        "Classes = pd.read_csv(\"Estrategias.csv\")\n",
        "Classes.head(100)"
      ],
      "execution_count": 152,
      "outputs": [
        {
          "output_type": "execute_result",
          "data": {
            "text/html": [
              "<div>\n",
              "<style scoped>\n",
              "    .dataframe tbody tr th:only-of-type {\n",
              "        vertical-align: middle;\n",
              "    }\n",
              "\n",
              "    .dataframe tbody tr th {\n",
              "        vertical-align: top;\n",
              "    }\n",
              "\n",
              "    .dataframe thead th {\n",
              "        text-align: right;\n",
              "    }\n",
              "</style>\n",
              "<table border=\"1\" class=\"dataframe\">\n",
              "  <thead>\n",
              "    <tr style=\"text-align: right;\">\n",
              "      <th></th>\n",
              "      <th>Campeao</th>\n",
              "      <th>Peel</th>\n",
              "      <th>Dive</th>\n",
              "      <th>Split</th>\n",
              "      <th>Poke</th>\n",
              "      <th>Wombo Combo</th>\n",
              "    </tr>\n",
              "  </thead>\n",
              "  <tbody>\n",
              "    <tr>\n",
              "      <th>0</th>\n",
              "      <td>Nidalee</td>\n",
              "      <td>3</td>\n",
              "      <td>3</td>\n",
              "      <td>0</td>\n",
              "      <td>5</td>\n",
              "      <td>0</td>\n",
              "    </tr>\n",
              "    <tr>\n",
              "      <th>1</th>\n",
              "      <td>Lilia</td>\n",
              "      <td>0</td>\n",
              "      <td>2</td>\n",
              "      <td>0</td>\n",
              "      <td>3</td>\n",
              "      <td>5</td>\n",
              "    </tr>\n",
              "    <tr>\n",
              "      <th>2</th>\n",
              "      <td>Orianna</td>\n",
              "      <td>3</td>\n",
              "      <td>3</td>\n",
              "      <td>0</td>\n",
              "      <td>4</td>\n",
              "      <td>5</td>\n",
              "    </tr>\n",
              "    <tr>\n",
              "      <th>3</th>\n",
              "      <td>Ornn</td>\n",
              "      <td>4</td>\n",
              "      <td>3</td>\n",
              "      <td>1</td>\n",
              "      <td>0</td>\n",
              "      <td>4</td>\n",
              "    </tr>\n",
              "    <tr>\n",
              "      <th>4</th>\n",
              "      <td>Graves</td>\n",
              "      <td>1</td>\n",
              "      <td>3</td>\n",
              "      <td>1</td>\n",
              "      <td>1</td>\n",
              "      <td>5</td>\n",
              "    </tr>\n",
              "    <tr>\n",
              "      <th>...</th>\n",
              "      <td>...</td>\n",
              "      <td>...</td>\n",
              "      <td>...</td>\n",
              "      <td>...</td>\n",
              "      <td>...</td>\n",
              "      <td>...</td>\n",
              "    </tr>\n",
              "    <tr>\n",
              "      <th>64</th>\n",
              "      <td>Kog'Maw</td>\n",
              "      <td>5</td>\n",
              "      <td>0</td>\n",
              "      <td>0</td>\n",
              "      <td>5</td>\n",
              "      <td>2</td>\n",
              "    </tr>\n",
              "    <tr>\n",
              "      <th>65</th>\n",
              "      <td>Skarner</td>\n",
              "      <td>1</td>\n",
              "      <td>5</td>\n",
              "      <td>0</td>\n",
              "      <td>0</td>\n",
              "      <td>0</td>\n",
              "    </tr>\n",
              "    <tr>\n",
              "      <th>66</th>\n",
              "      <td>Urgot</td>\n",
              "      <td>0</td>\n",
              "      <td>5</td>\n",
              "      <td>5</td>\n",
              "      <td>0</td>\n",
              "      <td>2</td>\n",
              "    </tr>\n",
              "    <tr>\n",
              "      <th>67</th>\n",
              "      <td>Vladimir</td>\n",
              "      <td>0</td>\n",
              "      <td>5</td>\n",
              "      <td>4</td>\n",
              "      <td>0</td>\n",
              "      <td>5</td>\n",
              "    </tr>\n",
              "    <tr>\n",
              "      <th>68</th>\n",
              "      <td>Xayah</td>\n",
              "      <td>4</td>\n",
              "      <td>1</td>\n",
              "      <td>0</td>\n",
              "      <td>0</td>\n",
              "      <td>5</td>\n",
              "    </tr>\n",
              "  </tbody>\n",
              "</table>\n",
              "<p>69 rows × 6 columns</p>\n",
              "</div>"
            ],
            "text/plain": [
              "      Campeao  Peel  Dive  Split  Poke  Wombo Combo\n",
              "0     Nidalee     3     3      0     5            0\n",
              "1       Lilia     0     2      0     3            5\n",
              "2     Orianna     3     3      0     4            5\n",
              "3        Ornn     4     3      1     0            4\n",
              "4      Graves     1     3      1     1            5\n",
              "..        ...   ...   ...    ...   ...          ...\n",
              "64    Kog'Maw     5     0      0     5            2\n",
              "65    Skarner     1     5      0     0            0\n",
              "66      Urgot     0     5      5     0            2\n",
              "67   Vladimir     0     5      4     0            5\n",
              "68      Xayah     4     1      0     0            5\n",
              "\n",
              "[69 rows x 6 columns]"
            ]
          },
          "metadata": {
            "tags": []
          },
          "execution_count": 152
        }
      ]
    },
    {
      "cell_type": "code",
      "metadata": {
        "id": "yjj_pu15NCSS"
      },
      "source": [
        "\n",
        "\n"
      ],
      "execution_count": 7,
      "outputs": []
    },
    {
      "cell_type": "code",
      "metadata": {
        "id": "Cxzo9xLsqh0K"
      },
      "source": [
        "#Aplicando os dados individuais dos campeões para os times\n",
        "i=0\n",
        "Classe=[]\n",
        "for index, PlayIn in Jogos.iterrows():\n",
        "  Classe.append(PlayIn[\" Classe\"])\n",
        "  flag=0 \n",
        "  for  index, Dados in Classes.iterrows():\n",
        "    if(Dados[\"Campeao\"] == PlayIn[\"Top\"]):\n",
        "      A=Dados\n",
        "      flag=flag+1\n",
        "    if(Dados[\"Campeao\"] == PlayIn[\"Jungle\"]):\n",
        "      B=Dados\n",
        "    if(Dados[\"Campeao\"] == PlayIn[\"Mid\"]):    \n",
        "      C=Dados\n",
        "      flag=flag+1\n",
        "    if(Dados[\"Campeao\"] == PlayIn[\"ADC\"]):\n",
        "      D=Dados\n",
        "      flag=flag+1\n",
        "    if(Dados[\"Campeao\"] == PlayIn[\"Sup\"]):\n",
        "      E=Dados  \n",
        "      flag=flag+1\n",
        "    if(flag==5):\n",
        "      break\n",
        "\n",
        "  \n",
        "\n",
        "  atributos[i][0]=A[\"Peel\"]+B[\"Peel\"]+C[\"Peel\"]+D[\"Peel\"]+E[\"Peel\"]\n",
        "  atributos[i][1]=A[\"Dive\"]+B[\"Dive\"]+C[\"Dive\"]+D[\"Dive\"]+E[\"Dive\"]\n",
        "  atributos[i][2]=A[\"Split\"]+B[\"Split\"]+C[\"Split\"]+D[\"Split\"]+E[\"Split\"]\n",
        "  atributos[i][3]=A[\"Poke\"]+B[\"Poke\"]+C[\"Poke\"]+D[\"Poke\"]+E[\"Poke\"]\n",
        "  atributos[i][4]=A[\"Wombo Combo\"]+B[\"Wombo Combo\"]+C[\"Wombo Combo\"]+D[\"Wombo Combo\"]+E[\"Wombo Combo\"]\n",
        "  i=i+1\n",
        "    \n",
        "  \n",
        "   "
      ],
      "execution_count": 145,
      "outputs": []
    },
    {
      "cell_type": "code",
      "metadata": {
        "id": "njGp2yPHSKY_"
      },
      "source": [
        "trainX=atributos[:50]\n",
        "trainY=Classe[:50]"
      ],
      "execution_count": 146,
      "outputs": []
    },
    {
      "cell_type": "code",
      "metadata": {
        "id": "LP4x2cFiGh-j"
      },
      "source": [
        "#-----------------------------------------Setando a distancia e k\n",
        "neigh=KNeighborsClassifier(metric ='euclidean',n_neighbors=5)"
      ],
      "execution_count": 147,
      "outputs": []
    },
    {
      "cell_type": "code",
      "metadata": {
        "id": "LolMNwg9Gk6z",
        "outputId": "e22a441c-b994-4f6f-90a1-8a19b52a4620",
        "colab": {
          "base_uri": "https://localhost:8080/",
          "height": 68
        }
      },
      "source": [
        "#--------------------------------------------------Treinamento\n",
        "neigh.fit(trainX, trainY)"
      ],
      "execution_count": 148,
      "outputs": [
        {
          "output_type": "execute_result",
          "data": {
            "text/plain": [
              "KNeighborsClassifier(algorithm='auto', leaf_size=30, metric='euclidean',\n",
              "                     metric_params=None, n_jobs=None, n_neighbors=5, p=2,\n",
              "                     weights='uniform')"
            ]
          },
          "metadata": {
            "tags": []
          },
          "execution_count": 148
        }
      ]
    },
    {
      "cell_type": "code",
      "metadata": {
        "id": "J308y4zcVRYe",
        "outputId": "1db1a1a6-a8bc-4aa4-86cf-fa0d16b0b005",
        "colab": {
          "base_uri": "https://localhost:8080/",
          "height": 119
        }
      },
      "source": [
        "#-------------------------------------------------Resultados\n",
        "neigh.predict(atributos[50:77])"
      ],
      "execution_count": 151,
      "outputs": [
        {
          "output_type": "execute_result",
          "data": {
            "text/plain": [
              "array([' Dive', ' Wombo Combo', ' Peel', ' Wombo Combo', ' Dive',\n",
              "       ' Wombo Combo', ' Dive', ' Wombo Combo', ' Peel', ' Dive',\n",
              "       ' Split', ' Wombo Combo', ' Wombo Combo', ' Wombo Combo', ' Peel',\n",
              "       ' Wombo Combo', ' Wombo Combo', ' Wombo Combo', ' Dive', ' Peel',\n",
              "       ' Dive', ' Wombo Combo', ' Wombo Combo', ' Wombo Combo', ' Dive',\n",
              "       ' Wombo Combo', ' Wombo Combo'], dtype='<U13')"
            ]
          },
          "metadata": {
            "tags": []
          },
          "execution_count": 151
        }
      ]
    },
    {
      "cell_type": "code",
      "metadata": {
        "id": "yJviiCifV2xG"
      },
      "source": [
        "from sklearn.metrics import accuracy_score"
      ],
      "execution_count": 149,
      "outputs": []
    },
    {
      "cell_type": "code",
      "metadata": {
        "id": "3F4WuQAbbR6a",
        "outputId": "e8020b4a-7429-47e4-d8dc-a5fc7425f453",
        "colab": {
          "base_uri": "https://localhost:8080/",
          "height": 34
        }
      },
      "source": [
        "#------------------------------------------------------Acurácia\n",
        "accuracy_score(Classe[50:70],neigh.predict(atributos[50:70]))"
      ],
      "execution_count": 150,
      "outputs": [
        {
          "output_type": "execute_result",
          "data": {
            "text/plain": [
              "0.6"
            ]
          },
          "metadata": {
            "tags": []
          },
          "execution_count": 150
        }
      ]
    },
    {
      "cell_type": "code",
      "metadata": {
        "id": "1-kNiBpvkYLE"
      },
      "source": [
        ""
      ],
      "execution_count": null,
      "outputs": []
    }
  ]
}